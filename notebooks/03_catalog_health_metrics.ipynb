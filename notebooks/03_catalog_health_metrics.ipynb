{
 "cells": [
  {
   "cell_type": "code",
   "execution_count": null,
   "id": "a7eb8d9a",
   "metadata": {},
   "outputs": [],
   "source": [
    "import pandas as pd\n",
    "import numpy as np\n",
    "\n",
    "# Load cleaned dataset\n",
    "df = pd.read_csv('../amazon_sales_cleaned.csv')\n",
    "\n",
    "# Ensuring data types are correct\n",
    "df['delivery_date'] = pd.to_datetime(df['delivery_date'], errors='coerce')\n",
    "df['data_collected_at'] = pd.to_datetime(df['data_collected_at'], errors='coerce')\n",
    "\n",
    "categorical_cols = ['product_category','is_best_seller','is_sponsored','has_coupon','buy_box_availability']\n",
    "for col in categorical_cols:\n",
    "    df[col] = df[col].astype('category')\n",
    "\n",
    "print(df.info())"
   ]
  },
  {
   "cell_type": "code",
   "execution_count": null,
   "id": "fa2c51f0",
   "metadata": {},
   "outputs": [],
   "source": [
    "# Min-Max normalization for Sales Score\n",
    "min_sales = df['purchased_last_month'].min()\n",
    "max_sales = df['purchased_last_month'].max()\n",
    "\n",
    "df['Sales_Score'] = (df['purchased_last_month'] - min_sales) / (max_sales - min_sales)\n",
    "\n",
    "# Check summary statistics\n",
    "print(df['Sales_Score'].describe())\n",
    "print(df[['purchased_last_month', 'Sales_Score']].head())"
   ]
  },
  {
   "cell_type": "code",
   "execution_count": null,
   "id": "baa64593",
   "metadata": {},
   "outputs": [],
   "source": [
    "# Min-Max normalization for Rating Score\n",
    "min_rating = df['product_rating'].min()\n",
    "max_rating = df['product_rating'].max()\n",
    "\n",
    "df['Rating_Score'] = (df['product_rating'] - min_rating) / (max_rating - min_rating)\n",
    "\n",
    "# Check summary statistics\n",
    "print(df['Rating_Score'].describe())\n",
    "print(df[['product_rating', 'Rating_Score']].head())\n"
   ]
  },
  {
   "cell_type": "code",
   "execution_count": null,
   "id": "0877bc92",
   "metadata": {},
   "outputs": [],
   "source": [
    "# Approximate Return Rate = total_reviews / purchased_last_month\n",
    "df['Return_Rate'] = df['total_reviews'] / df['purchased_last_month']\n",
    "\n",
    "# Normalize and invert (1 - normalized Return_Rate)\n",
    "min_rr = df['Return_Rate'].min()\n",
    "max_rr = df['Return_Rate'].max()\n",
    "\n",
    "df['Return_Rate_Score'] = 1 - ((df['Return_Rate'] - min_rr) / (max_rr - min_rr))\n",
    "\n",
    "# Check summary stats\n",
    "print(df['Return_Rate_Score'].describe())\n",
    "print(df[['total_reviews', 'purchased_last_month', 'Return_Rate_Score']].head())"
   ]
  },
  {
   "cell_type": "code",
   "execution_count": null,
   "id": "3e1821d6",
   "metadata": {},
   "outputs": [],
   "source": [
    "# Define important columns for completeness\n",
    "important_cols = [\n",
    "    'product_title', 'product_rating', 'total_reviews',\n",
    "    'discounted_price', 'original_price', 'product_image_url',\n",
    "    'product_page_url', 'delivery_date'\n",
    "]\n",
    "\n",
    "df['Completeness_Score'] = df[important_cols].notnull().mean(axis=1)\n",
    "\n",
    "# Check summary stats\n",
    "print(df['Completeness_Score'].describe())\n",
    "print(df[['product_title','Completeness_Score']].head())\n"
   ]
  },
  {
   "cell_type": "code",
   "execution_count": null,
   "id": "ab3de2af",
   "metadata": {},
   "outputs": [],
   "source": [
    "df['Health_Score'] = (\n",
    "    0.4 * df['Sales_Score'] +\n",
    "    0.3 * df['Rating_Score'] +\n",
    "    0.15 * df['Return_Rate_Score'] +\n",
    "    0.15 * df['Completeness_Score']\n",
    ")\n",
    "\n",
    "# Summary stats\n",
    "print(df['Health_Score'].describe())\n",
    "print(df[['product_title','Health_Score']].head())\n"
   ]
  },
  {
   "cell_type": "code",
   "execution_count": null,
   "id": "2362648f",
   "metadata": {},
   "outputs": [],
   "source": [
    "df.to_csv('../amazon_sales_with_health_scores.csv', index=False)"
   ]
  }
 ],
 "metadata": {
  "kernelspec": {
   "display_name": "Python 3",
   "language": "python",
   "name": "python3"
  },
  "language_info": {
   "codemirror_mode": {
    "name": "ipython",
    "version": 3
   },
   "file_extension": ".py",
   "mimetype": "text/x-python",
   "name": "python",
   "nbconvert_exporter": "python",
   "pygments_lexer": "ipython3",
   "version": "3.12.9"
  }
 },
 "nbformat": 4,
 "nbformat_minor": 5
}
