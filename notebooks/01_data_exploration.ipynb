{
 "cells": [
  {
   "cell_type": "code",
   "execution_count": null,
   "id": "abd0e3ef",
   "metadata": {},
   "outputs": [],
   "source": [
    "import pandas as pd\n",
    "\n",
    "df = pd.read_csv('../amazon_sales.csv')\n",
    "\n",
    "# Load and view the data\n",
    "print(df.head())\n",
    "print(df.info())\n",
    "print(df.describe())"
   ]
  },
  {
   "cell_type": "code",
   "execution_count": null,
   "id": "514aa69a",
   "metadata": {},
   "outputs": [],
   "source": [
    "# List of important categorical columns\n",
    "categorical_cols = ['product_category','is_best_seller','is_sponsored','has_coupon','buy_box_availability']\n",
    "\n",
    "# Explore each categorical column\n",
    "for col in categorical_cols:\n",
    "    print(f\"Column: {col}\")\n",
    "    print(f\"Number of unique values: {df[col].nunique()}\")\n",
    "    print(\"Top 10 most frequent values:\")\n",
    "    print(df[col].value_counts().head(10))\n",
    "    print(\"Missing values:\", df[col].isnull().sum())\n",
    "    print(\"-\"*50)"
   ]
  },
  {
   "cell_type": "code",
   "execution_count": null,
   "id": "632d4b3b",
   "metadata": {},
   "outputs": [],
   "source": [
    "import matplotlib.pyplot as plt\n",
    "import seaborn as sns\n",
    "\n",
    "numeric_cols = ['product_rating','total_reviews','purchased_last_month','discounted_price','original_price','discount_percentage']\n",
    "\n",
    "for col in numeric_cols:\n",
    "    print(f\"Summary statistics for {col}:\")\n",
    "    print(df[col].describe())\n",
    "    print(\"Missing values:\", df[col].isnull().sum())\n",
    "    \n",
    "    plt.figure(figsize=(10,4))\n",
    "    sns.boxplot(x=df[col])\n",
    "    plt.title(f\"Boxplot of {col}\")\n",
    "    plt.show()\n",
    "    \n",
    "    plt.figure(figsize=(10,4))\n",
    "    sns.histplot(df[col], bins=50, kde=True)\n",
    "    plt.title(f\"Histogram of {col}\")\n",
    "    plt.show()\n"
   ]
  }
 ],
 "metadata": {
  "kernelspec": {
   "display_name": "Python 3",
   "language": "python",
   "name": "python3"
  },
  "language_info": {
   "codemirror_mode": {
    "name": "ipython",
    "version": 3
   },
   "file_extension": ".py",
   "mimetype": "text/x-python",
   "name": "python",
   "nbconvert_exporter": "python",
   "pygments_lexer": "ipython3",
   "version": "3.12.9"
  }
 },
 "nbformat": 4,
 "nbformat_minor": 5
}
